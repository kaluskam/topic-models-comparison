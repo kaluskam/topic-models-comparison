{
 "cells": [
  {
   "cell_type": "code",
   "execution_count": 15,
   "metadata": {},
   "outputs": [],
   "source": [
    "from models.nmf_model import NMFModel\n",
    "from models.lda_model import LDAModel\n",
    "from models.berttopic_model import BERTopicModel\n",
    "from utils.preprocessing import DataPreprocessor\n",
    "from utils.data_structures import InputData\n",
    "from utils.visualizer import visualise_topics_overtime\n",
    "\n",
    "import pandas as pd\n",
    "df = pd.read_csv(\"data/askmen_df.csv\")\n"
   ]
  },
  {
   "cell_type": "code",
   "execution_count": 16,
   "metadata": {},
   "outputs": [
    {
     "data": {
      "text/html": [
       "<div>\n",
       "<style scoped>\n",
       "    .dataframe tbody tr th:only-of-type {\n",
       "        vertical-align: middle;\n",
       "    }\n",
       "\n",
       "    .dataframe tbody tr th {\n",
       "        vertical-align: top;\n",
       "    }\n",
       "\n",
       "    .dataframe thead th {\n",
       "        text-align: right;\n",
       "    }\n",
       "</style>\n",
       "<table border=\"1\" class=\"dataframe\">\n",
       "  <thead>\n",
       "    <tr style=\"text-align: right;\">\n",
       "      <th></th>\n",
       "      <th>title</th>\n",
       "      <th>score</th>\n",
       "      <th>num_comments</th>\n",
       "      <th>selftext</th>\n",
       "      <th>created</th>\n",
       "    </tr>\n",
       "  </thead>\n",
       "  <tbody>\n",
       "    <tr>\n",
       "      <th>0</th>\n",
       "      <td>Guys who don’t re-rack their weights at the gy...</td>\n",
       "      <td>3</td>\n",
       "      <td>15</td>\n",
       "      <td>NaN</td>\n",
       "      <td>2020-01-02</td>\n",
       "    </tr>\n",
       "    <tr>\n",
       "      <th>1</th>\n",
       "      <td>What are some of your favorite lesser knowing ...</td>\n",
       "      <td>3</td>\n",
       "      <td>5</td>\n",
       "      <td>Known *</td>\n",
       "      <td>2020-01-02</td>\n",
       "    </tr>\n",
       "    <tr>\n",
       "      <th>2</th>\n",
       "      <td>Men dating accomplished women, how do you deal...</td>\n",
       "      <td>5502</td>\n",
       "      <td>1011</td>\n",
       "      <td>I had someone tell me the fact that I'm a scie...</td>\n",
       "      <td>2020-01-02</td>\n",
       "    </tr>\n",
       "    <tr>\n",
       "      <th>3</th>\n",
       "      <td>How to try out gay relationship?</td>\n",
       "      <td>1</td>\n",
       "      <td>6</td>\n",
       "      <td>So, I admitted to myself that I am at least bi...</td>\n",
       "      <td>2020-01-02</td>\n",
       "    </tr>\n",
       "    <tr>\n",
       "      <th>4</th>\n",
       "      <td>How did you get your first black eye?</td>\n",
       "      <td>1</td>\n",
       "      <td>24</td>\n",
       "      <td>NaN</td>\n",
       "      <td>2020-01-02</td>\n",
       "    </tr>\n",
       "  </tbody>\n",
       "</table>\n",
       "</div>"
      ],
      "text/plain": [
       "                                               title  score  num_comments  \\\n",
       "0  Guys who don’t re-rack their weights at the gy...      3            15   \n",
       "1  What are some of your favorite lesser knowing ...      3             5   \n",
       "2  Men dating accomplished women, how do you deal...   5502          1011   \n",
       "3                   How to try out gay relationship?      1             6   \n",
       "4              How did you get your first black eye?      1            24   \n",
       "\n",
       "                                            selftext     created  \n",
       "0                                                NaN  2020-01-02  \n",
       "1                                            Known *  2020-01-02  \n",
       "2  I had someone tell me the fact that I'm a scie...  2020-01-02  \n",
       "3  So, I admitted to myself that I am at least bi...  2020-01-02  \n",
       "4                                                NaN  2020-01-02  "
      ]
     },
     "execution_count": 16,
     "metadata": {},
     "output_type": "execute_result"
    }
   ],
   "source": [
    "dp = DataPreprocessor(lematize = True,\n",
    "                      stem = False,\n",
    "                      min_word_len = 3)\n",
    "\n",
    "df.head()"
   ]
  },
  {
   "cell_type": "code",
   "execution_count": 17,
   "metadata": {},
   "outputs": [],
   "source": [
    "df = dp.preprocess_dataframe(df,\n",
    "                            text_column = [\"title\", \"selftext\"],\n",
    "                            dest_column = \"processed_text\",\n",
    "                            remove_empty_rows = True)"
   ]
  },
  {
   "cell_type": "code",
   "execution_count": 18,
   "metadata": {},
   "outputs": [],
   "source": [
    "inputdata = InputData()\n",
    "inputdata.texts_from_df(df, column = \"processed_text\")"
   ]
  },
  {
   "cell_type": "code",
   "execution_count": 19,
   "metadata": {},
   "outputs": [],
   "source": [
    "models = [NMFModel(), LDAModel()]\n",
    "output = []"
   ]
  },
  {
   "cell_type": "code",
   "execution_count": 20,
   "metadata": {},
   "outputs": [],
   "source": [
    "for model in models:\n",
    "    model.fit(inputdata)\n",
    "    output.append(model.get_output())"
   ]
  },
  {
   "cell_type": "code",
   "execution_count": 21,
   "metadata": {},
   "outputs": [],
   "source": [
    "models[0].save(\"nmfmodel.obj\")"
   ]
  },
  {
   "cell_type": "code",
   "execution_count": 22,
   "metadata": {},
   "outputs": [],
   "source": [
    "models[1].save(\"ldamodel.obj\")"
   ]
  },
  {
   "cell_type": "code",
   "execution_count": 23,
   "metadata": {},
   "outputs": [],
   "source": [
    "ldamodel = models[1]"
   ]
  },
  {
   "cell_type": "code",
   "execution_count": 29,
   "metadata": {},
   "outputs": [
    {
     "name": "stdout",
     "output_type": "stream",
     "text": [
      "starting next model\n",
      "[[1.42559158 1.15384741 0.9895627  0.921887   0.88188083 0.83919344\n",
      "  0.83416632 0.80050401 0.65779603 0.63694649]\n",
      " [2.88057802 1.85764247 0.22069899 0.21271024 0.18056423 0.13952386\n",
      "  0.13484399 0.12604011 0.10868713 0.106628  ]\n",
      " [2.45259224 1.35816831 0.69648774 0.57090428 0.53366092 0.48822916\n",
      "  0.28241637 0.26940128 0.25222523 0.24861497]\n",
      " [2.78597239 0.31571064 0.30575249 0.29155686 0.28345414 0.25397856\n",
      "  0.25076605 0.23655785 0.22767412 0.16086614]\n",
      " [2.73262792 0.95616006 0.40306016 0.37797696 0.24414762 0.23863779\n",
      "  0.22603728 0.22313286 0.19664107 0.16547473]]\n",
      "starting next model\n",
      "[[0.02230713 0.01455092 0.00853271 0.00835876 0.0069432  0.00639937\n",
      "  0.00613639 0.00588786 0.00569172 0.00564007]\n",
      " [0.07062649 0.01452763 0.01368842 0.01187118 0.01152927 0.01060639\n",
      "  0.01045204 0.0090241  0.00815454 0.00783053]\n",
      " [0.01491459 0.01394992 0.01297728 0.01234419 0.01210074 0.01031286\n",
      "  0.0096725  0.00952605 0.00754175 0.00646536]\n",
      " [0.03814893 0.01796398 0.01210118 0.0120815  0.01116758 0.01105769\n",
      "  0.01050627 0.01049805 0.01008267 0.00994669]\n",
      " [0.02780439 0.01354402 0.01123762 0.00938349 0.00900566 0.00838155\n",
      "  0.00836334 0.00827785 0.00826554 0.00818739]\n",
      " [0.01864435 0.01119489 0.01107105 0.00929393 0.00921575 0.00885155\n",
      "  0.00882045 0.00881209 0.00861677 0.00777779]\n",
      " [0.02457512 0.01186484 0.00928843 0.00855875 0.00848363 0.00836534\n",
      "  0.00817402 0.0073948  0.00737528 0.00726887]\n",
      " [0.08811752 0.02657905 0.01895948 0.01864798 0.00990231 0.0095783\n",
      "  0.0093511  0.00904094 0.00851881 0.00808297]\n",
      " [0.01881148 0.01085308 0.01000441 0.00993155 0.00974142 0.00848047\n",
      "  0.00743329 0.00692459 0.00668809 0.00653637]\n",
      " [0.01907476 0.01443297 0.01379009 0.00869257 0.00813141 0.0076793\n",
      "  0.00765414 0.00758804 0.00739294 0.00736579]]\n"
     ]
    }
   ],
   "source": [
    "from metrics.coherence_metric import *\n",
    "from metrics.diversity_metric import *\n",
    "from metrics.significance_metric import *\n",
    "from metrics.similarity_metric import *\n",
    "\n",
    "model_names = [\"NMF\", \"LDA\"]\n",
    "metrics = [\n",
    "    KLUniformMetric(),\n",
    "    KLBackgroundMetric(),\n",
    "    RBOMetric(),\n",
    "    WordEmbeddingPairwiseSimilarityMetric(),\n",
    "    WordEmbeddingCentroidSimilarityMetric(),\n",
    "    PairwiseJacckardSimilarityMetric(),\n",
    "    UMassCoherenceMetric(),\n",
    "    CVCoherenceMetric(),\n",
    "    CUCICoherenceMetric(),\n",
    "    CNPMICoherenceMetric(),\n",
    "    WECoherencePairwiseMetric(),\n",
    "    WECoherenceCentroidMetric(),\n",
    "    TopicDiversityMetric(),\n",
    "    InvertedRBOMetric(),\n",
    "    LogOddsRatioMetric(),\n",
    "    WordEmbeddingsInvertedRBOMetric(),\n",
    "    WordEmbeddingsInvertedRBOCentroidMetric()\n",
    "]\n",
    "\n",
    "metric_names = [metric.name for metric in metrics]\n",
    "\n",
    "scores = []\n",
    "\n",
    "for model in models:\n",
    "    print(\"starting next model\")\n",
    "    scores.append([metric.evaluate(inputdata, model.get_output()) for metric in metrics])\n",
    "\n",
    "\n"
   ]
  },
  {
   "cell_type": "code",
   "execution_count": 32,
   "metadata": {},
   "outputs": [
    {
     "data": {
      "text/html": [
       "<div>\n",
       "<style scoped>\n",
       "    .dataframe tbody tr th:only-of-type {\n",
       "        vertical-align: middle;\n",
       "    }\n",
       "\n",
       "    .dataframe tbody tr th {\n",
       "        vertical-align: top;\n",
       "    }\n",
       "\n",
       "    .dataframe thead th {\n",
       "        text-align: right;\n",
       "    }\n",
       "</style>\n",
       "<table border=\"1\" class=\"dataframe\">\n",
       "  <thead>\n",
       "    <tr style=\"text-align: right;\">\n",
       "      <th></th>\n",
       "      <th>KL Uniform</th>\n",
       "      <th>KL Background</th>\n",
       "      <th>RBO</th>\n",
       "      <th>Word Embedding Pairwise Similarity</th>\n",
       "      <th>Word Embedding Centroid Similarity</th>\n",
       "      <th>Pairwise Jacckard Similarity</th>\n",
       "      <th>UMass Coherence</th>\n",
       "      <th>CV Coherence</th>\n",
       "      <th>CUCI Coherence</th>\n",
       "      <th>CNPMI Coherence</th>\n",
       "      <th>WE Pairwise Coherence</th>\n",
       "      <th>WE Centroid Coherence</th>\n",
       "      <th>Topic Diversity</th>\n",
       "      <th>Inverted RBO</th>\n",
       "      <th>Log Odds Ratio</th>\n",
       "      <th>Word Embeddings Inverted RBO</th>\n",
       "      <th>Word Embeddings Inverted RBO Centroid</th>\n",
       "    </tr>\n",
       "  </thead>\n",
       "  <tbody>\n",
       "    <tr>\n",
       "      <th>NMF</th>\n",
       "      <td>0.473826</td>\n",
       "      <td>0.691178</td>\n",
       "      <td>0.033807</td>\n",
       "      <td>0.162493</td>\n",
       "      <td>0.586106</td>\n",
       "      <td>0.037427</td>\n",
       "      <td>-2.355675</td>\n",
       "      <td>0.511881</td>\n",
       "      <td>0.273828</td>\n",
       "      <td>0.040624</td>\n",
       "      <td>0.005662</td>\n",
       "      <td>0.921946</td>\n",
       "      <td>0.86</td>\n",
       "      <td>0.966193</td>\n",
       "      <td>0.734598</td>\n",
       "      <td>0.408867</td>\n",
       "      <td>0.835784</td>\n",
       "    </tr>\n",
       "    <tr>\n",
       "      <th>LDA</th>\n",
       "      <td>0.140819</td>\n",
       "      <td>0.687559</td>\n",
       "      <td>0.039904</td>\n",
       "      <td>0.151579</td>\n",
       "      <td>0.559819</td>\n",
       "      <td>0.036898</td>\n",
       "      <td>-3.353137</td>\n",
       "      <td>0.459602</td>\n",
       "      <td>-1.046344</td>\n",
       "      <td>-0.020711</td>\n",
       "      <td>0.007506</td>\n",
       "      <td>0.901096</td>\n",
       "      <td>0.78</td>\n",
       "      <td>0.960096</td>\n",
       "      <td>0.264136</td>\n",
       "      <td>0.412916</td>\n",
       "      <td>0.837217</td>\n",
       "    </tr>\n",
       "  </tbody>\n",
       "</table>\n",
       "</div>"
      ],
      "text/plain": [
       "     KL Uniform  KL Background       RBO  Word Embedding Pairwise Similarity  \\\n",
       "NMF    0.473826       0.691178  0.033807                            0.162493   \n",
       "LDA    0.140819       0.687559  0.039904                            0.151579   \n",
       "\n",
       "     Word Embedding Centroid Similarity  Pairwise Jacckard Similarity  \\\n",
       "NMF                            0.586106                      0.037427   \n",
       "LDA                            0.559819                      0.036898   \n",
       "\n",
       "     UMass Coherence  CV Coherence  CUCI Coherence  CNPMI Coherence  \\\n",
       "NMF        -2.355675      0.511881        0.273828         0.040624   \n",
       "LDA        -3.353137      0.459602       -1.046344        -0.020711   \n",
       "\n",
       "     WE Pairwise Coherence  WE Centroid Coherence  Topic Diversity  \\\n",
       "NMF               0.005662               0.921946             0.86   \n",
       "LDA               0.007506               0.901096             0.78   \n",
       "\n",
       "     Inverted RBO  Log Odds Ratio  Word Embeddings Inverted RBO  \\\n",
       "NMF      0.966193        0.734598                      0.408867   \n",
       "LDA      0.960096        0.264136                      0.412916   \n",
       "\n",
       "     Word Embeddings Inverted RBO Centroid  \n",
       "NMF                               0.835784  \n",
       "LDA                               0.837217  "
      ]
     },
     "execution_count": 32,
     "metadata": {},
     "output_type": "execute_result"
    }
   ],
   "source": [
    "scores_df = pd.DataFrame(scores, index=model_names, columns=metric_names)\n",
    "scores_df"
   ]
  },
  {
   "cell_type": "code",
   "execution_count": 34,
   "metadata": {},
   "outputs": [],
   "source": [
    "scores_df.to_csv(\"scores_df.csv\")"
   ]
  },
  {
   "cell_type": "code",
   "execution_count": 35,
   "metadata": {},
   "outputs": [],
   "source": [
    "import pickle\n",
    "with open(\"inputdata.obj\", \"wb\") as f:\n",
    "    pickle.dump(inputdata, f)"
   ]
  }
 ],
 "metadata": {
  "kernelspec": {
   "display_name": "Python 3.10.1 64-bit",
   "language": "python",
   "name": "python3"
  },
  "language_info": {
   "codemirror_mode": {
    "name": "ipython",
    "version": 3
   },
   "file_extension": ".py",
   "mimetype": "text/x-python",
   "name": "python",
   "nbconvert_exporter": "python",
   "pygments_lexer": "ipython3",
   "version": "3.10.1"
  },
  "orig_nbformat": 4,
  "vscode": {
   "interpreter": {
    "hash": "5c78c83bff0417342952dc0c0896a7258fe24f94fa556fee9b04f2330eb27859"
   }
  }
 },
 "nbformat": 4,
 "nbformat_minor": 2
}
