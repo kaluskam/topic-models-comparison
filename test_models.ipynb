{
 "cells": [
  {
   "cell_type": "code",
   "execution_count": 8,
   "metadata": {},
   "outputs": [],
   "source": [
    "from utils.data_structures import *\n",
    "from models.nmf_model import NMFModel\n",
    "from models.lda_model import LDAModel\n",
    "from models.berttopic_model import BERTopicModel\n",
    "from utils.preprocessing import DataPreprocessor \n",
    "import pandas as pd"
   ]
  },
  {
   "cell_type": "code",
   "execution_count": 2,
   "metadata": {},
   "outputs": [],
   "source": [
    "df = pd.read_csv(\"data/aita_df.csv\")\n",
    "dp = DataPreprocessor(True, False)\n",
    "text_df = dp.preprocess_dataframe(df.loc[1:1000, ], \"selftext\", \"processed_text\", True)\n",
    "datamodel = InputData()\n",
    "datamodel.texts_from_df(text_df, \"processed_text\")"
   ]
  },
  {
   "cell_type": "code",
   "execution_count": 3,
   "metadata": {},
   "outputs": [
    {
     "name": "stderr",
     "output_type": "stream",
     "text": [
      "c:\\Users\\Mikołaj\\AppData\\Local\\Programs\\Python\\Python310\\lib\\site-packages\\sklearn\\decomposition\\_nmf.py:289: FutureWarning: The 'init' value, when 'init=None' and n_components is less than n_samples and n_features, will be changed from 'nndsvd' to 'nndsvda' in 1.1 (renaming of 0.26).\n",
      "  warnings.warn(\n"
     ]
    }
   ],
   "source": [
    "nmf = NMFModel()\n",
    "nmf.fit(datamodel)"
   ]
  },
  {
   "cell_type": "code",
   "execution_count": 4,
   "metadata": {},
   "outputs": [
    {
     "name": "stdout",
     "output_type": "stream",
     "text": [
      "[('friend', 1.4211951116226804), ('group', 0.36033457602143404), ('boyfriend', 0.3484424015166581), ('like', 0.3318935523135789), ('best', 0.3298218185803009), ('year', 0.23544147136160026), ('together', 0.22208706511714676), ('know', 0.2171263174327849), ('talk', 0.21536324262589762), ('going', 0.21335700443930436)]\n",
      "[('dog', 1.521343529336272), ('owner', 0.15225537991920965), ('roommate', 0.11805485046853097), ('walk', 0.1147974624271993), ('take', 0.11205476966978638), ('room', 0.1108717840262479), ('cat', 0.1105477375861424), ('vet', 0.08770240871373718), ('run', 0.08480301993671022), ('animal', 0.07658839434563756)]\n",
      "[('dad', 0.690488680947425), ('brother', 0.6478435429375847), ('mom', 0.6180240235409585), ('parent', 0.5049015440469942), ('kid', 0.37584495579417226), ('family', 0.35011398882110617), ('year', 0.3264592242903792), ('want', 0.24222176155299185), ('ha', 0.2278552953612918), ('father', 0.21411568576581563)]\n"
     ]
    },
    {
     "data": {
      "text/plain": [
       "Topic 1\n",
       "friend\t1.4211951116226804\n",
       "group\t0.36033457602143404\n",
       "boyfriend\t0.3484424015166581\n",
       "like\t0.3318935523135789\n",
       "best\t0.3298218185803009\n",
       "year\t0.23544147136160026\n",
       "together\t0.22208706511714676\n",
       "know\t0.2171263174327849\n",
       "talk\t0.21536324262589762\n",
       "going\t0.21335700443930436\n",
       "\n",
       "Topic 2\n",
       "dog\t1.521343529336272\n",
       "owner\t0.15225537991920965\n",
       "roommate\t0.11805485046853097\n",
       "walk\t0.1147974624271993\n",
       "take\t0.11205476966978638\n",
       "room\t0.1108717840262479\n",
       "cat\t0.1105477375861424\n",
       "vet\t0.08770240871373718\n",
       "run\t0.08480301993671022\n",
       "animal\t0.07658839434563756\n",
       "\n",
       "Topic 3\n",
       "dad\t0.690488680947425\n",
       "brother\t0.6478435429375847\n",
       "mom\t0.6180240235409585\n",
       "parent\t0.5049015440469942\n",
       "kid\t0.37584495579417226\n",
       "family\t0.35011398882110617\n",
       "year\t0.3264592242903792\n",
       "want\t0.24222176155299185\n",
       "ha\t0.2278552953612918\n",
       "father\t0.21411568576581563\n",
       "\n",
       "... skipped 7 topics"
      ]
     },
     "execution_count": 4,
     "metadata": {},
     "output_type": "execute_result"
    }
   ],
   "source": [
    "nmf.get_topics()"
   ]
  },
  {
   "cell_type": "code",
   "execution_count": 5,
   "metadata": {},
   "outputs": [],
   "source": [
    "lda = LDAModel()\n",
    "lda.fit(datamodel)"
   ]
  },
  {
   "cell_type": "code",
   "execution_count": 6,
   "metadata": {},
   "outputs": [
    {
     "name": "stdout",
     "output_type": "stream",
     "text": [
      "[('home', 0.008333112), ('mom', 0.008194771), ('say', 0.007878065), ('feel', 0.007740243), ('even', 0.0071776034), ('month', 0.007058519), ('still', 0.006643622), ('people', 0.006496621), ('back', 0.0062577315), ('first', 0.0061060833)]\n",
      "[('dog', 0.012501189), ('back', 0.010992227), ('think', 0.010293602), ('even', 0.007912263), ('sister', 0.007220067), ('also', 0.0069558336), ('never', 0.0067235515), ('wanted', 0.0061471346), ('month', 0.006076941), ('since', 0.005921872)]\n",
      "[('family', 0.013107188), ('feel', 0.008079349), ('sister', 0.007933343), ('never', 0.0071916087), ('people', 0.006705149), ('dad', 0.006602256), ('since', 0.0062742284), ('asked', 0.0062671294), ('doe', 0.0059166085), ('much', 0.0058602868)]\n"
     ]
    },
    {
     "data": {
      "text/plain": [
       "Topic 1\n",
       "home\t0.008333112\n",
       "mom\t0.008194771\n",
       "say\t0.007878065\n",
       "feel\t0.007740243\n",
       "even\t0.0071776034\n",
       "month\t0.007058519\n",
       "still\t0.006643622\n",
       "people\t0.006496621\n",
       "back\t0.0062577315\n",
       "first\t0.0061060833\n",
       "\n",
       "Topic 2\n",
       "dog\t0.012501189\n",
       "back\t0.010992227\n",
       "think\t0.010293602\n",
       "even\t0.007912263\n",
       "sister\t0.007220067\n",
       "also\t0.0069558336\n",
       "never\t0.0067235515\n",
       "wanted\t0.0061471346\n",
       "month\t0.006076941\n",
       "since\t0.005921872\n",
       "\n",
       "Topic 3\n",
       "family\t0.013107188\n",
       "feel\t0.008079349\n",
       "sister\t0.007933343\n",
       "never\t0.0071916087\n",
       "people\t0.006705149\n",
       "dad\t0.006602256\n",
       "since\t0.0062742284\n",
       "asked\t0.0062671294\n",
       "doe\t0.0059166085\n",
       "much\t0.0058602868\n",
       "\n",
       "... skipped 7 topics"
      ]
     },
     "execution_count": 6,
     "metadata": {},
     "output_type": "execute_result"
    }
   ],
   "source": [
    "lda.get_topics()"
   ]
  },
  {
   "cell_type": "code",
   "execution_count": 9,
   "metadata": {},
   "outputs": [],
   "source": [
    "bert = BERTopicModel()\n",
    "bert.fit(datamodel)"
   ]
  },
  {
   "cell_type": "code",
   "execution_count": 10,
   "metadata": {},
   "outputs": [
    {
     "name": "stdout",
     "output_type": "stream",
     "text": [
      "[('friend', 0.02528336495599565), ('wa', 0.020542153404934163), ('like', 0.015358793675120745), ('time', 0.014261898872474931), ('relationship', 0.013506846379558637), ('feel', 0.01350087162860151), ('know', 0.012430512563655082), ('thing', 0.011716088722106355), ('would', 0.011174949432428158), ('ha', 0.010941341515541183)]\n",
      "[('brother', 0.024516578503529292), ('mom', 0.019182692974903992), ('wa', 0.019145377464970314), ('kid', 0.01578190045033662), ('like', 0.01441553782383413), ('get', 0.012479830417979058), ('parent', 0.012438295278212979), ('room', 0.0120908588868553), ('day', 0.011088849969219978), ('game', 0.01057680617106511)]\n",
      "[('wedding', 0.05036493977357559), ('would', 0.01874890595284866), ('wa', 0.014917007908709454), ('dress', 0.014709435740150689), ('married', 0.014177640521610694), ('family', 0.013613042464580309), ('friend', 0.013488743286265314), ('want', 0.012817687343204601), ('know', 0.011746168546299741), ('fianc', 0.011705915519669707)]\n"
     ]
    },
    {
     "data": {
      "text/plain": [
       "Topic 1\n",
       "friend\t0.02528336495599565\n",
       "wa\t0.020542153404934163\n",
       "like\t0.015358793675120745\n",
       "time\t0.014261898872474931\n",
       "relationship\t0.013506846379558637\n",
       "feel\t0.01350087162860151\n",
       "know\t0.012430512563655082\n",
       "thing\t0.011716088722106355\n",
       "would\t0.011174949432428158\n",
       "ha\t0.010941341515541183\n",
       "\n",
       "Topic 2\n",
       "brother\t0.024516578503529292\n",
       "mom\t0.019182692974903992\n",
       "wa\t0.019145377464970314\n",
       "kid\t0.01578190045033662\n",
       "like\t0.01441553782383413\n",
       "get\t0.012479830417979058\n",
       "parent\t0.012438295278212979\n",
       "room\t0.0120908588868553\n",
       "day\t0.011088849969219978\n",
       "game\t0.01057680617106511\n",
       "\n",
       "Topic 3\n",
       "wedding\t0.05036493977357559\n",
       "would\t0.01874890595284866\n",
       "wa\t0.014917007908709454\n",
       "dress\t0.014709435740150689\n",
       "married\t0.014177640521610694\n",
       "family\t0.013613042464580309\n",
       "friend\t0.013488743286265314\n",
       "want\t0.012817687343204601\n",
       "know\t0.011746168546299741\n",
       "fianc\t0.011705915519669707\n",
       "\n",
       "... skipped 17 topics"
      ]
     },
     "execution_count": 10,
     "metadata": {},
     "output_type": "execute_result"
    }
   ],
   "source": [
    "bert.get_topics()"
   ]
  },
  {
   "cell_type": "code",
   "execution_count": null,
   "metadata": {},
   "outputs": [],
   "source": []
  }
 ],
 "metadata": {
  "kernelspec": {
   "display_name": "Python 3.10.1 64-bit",
   "language": "python",
   "name": "python3"
  },
  "language_info": {
   "codemirror_mode": {
    "name": "ipython",
    "version": 3
   },
   "file_extension": ".py",
   "mimetype": "text/x-python",
   "name": "python",
   "nbconvert_exporter": "python",
   "pygments_lexer": "ipython3",
   "version": "3.10.1"
  },
  "orig_nbformat": 4,
  "vscode": {
   "interpreter": {
    "hash": "5c78c83bff0417342952dc0c0896a7258fe24f94fa556fee9b04f2330eb27859"
   }
  }
 },
 "nbformat": 4,
 "nbformat_minor": 2
}
