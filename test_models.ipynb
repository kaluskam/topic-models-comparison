{
 "cells": [
  {
   "cell_type": "code",
   "execution_count": 1,
   "metadata": {},
   "outputs": [
    {
     "name": "stderr",
     "output_type": "stream",
     "text": [
      "c:\\Users\\Mikołaj\\AppData\\Local\\Programs\\Python\\Python310\\lib\\site-packages\\requests\\__init__.py:102: RequestsDependencyWarning: urllib3 (1.26.8) or chardet (5.0.0)/charset_normalizer (2.0.10) doesn't match a supported version!\n",
      "  warnings.warn(\"urllib3 ({}) or chardet ({})/charset_normalizer ({}) doesn't match a supported \"\n",
      "[nltk_data] Downloading package wordnet to\n",
      "[nltk_data]     C:\\Users\\Mikołaj\\AppData\\Roaming\\nltk_data...\n",
      "[nltk_data]   Package wordnet is already up-to-date!\n",
      "[nltk_data] Downloading package omw-1.4 to\n",
      "[nltk_data]     C:\\Users\\Mikołaj\\AppData\\Roaming\\nltk_data...\n",
      "[nltk_data]   Package omw-1.4 is already up-to-date!\n"
     ]
    }
   ],
   "source": [
    "from utils.data_structures import *\n",
    "from models.nmf_model import NMFModel\n",
    "from models.lda_model import LDAModel\n",
    "from models.berttopic_model import BERTopicModel\n",
    "from utils.preprocessing import DataPreprocessor \n",
    "import pandas as pd"
   ]
  },
  {
   "cell_type": "code",
   "execution_count": 2,
   "metadata": {},
   "outputs": [],
   "source": [
    "df = pd.read_csv(\"data/aita_df.csv\")\n",
    "dp = DataPreprocessor(True, False)\n",
    "text_df = dp.preprocess_dataframe(df.loc[1:300, ], \"selftext\", \"processed_text\", True)\n",
    "datamodel = InputData()\n",
    "datamodel.texts_from_df(text_df, \"processed_text\")"
   ]
  },
  {
   "cell_type": "code",
   "execution_count": 3,
   "metadata": {},
   "outputs": [],
   "source": [
    "nmf = NMFModel()\n",
    "nmf.fit(datamodel)"
   ]
  },
  {
   "cell_type": "code",
   "execution_count": 4,
   "metadata": {},
   "outputs": [
    {
     "data": {
      "text/plain": [
       "Topic 1\n",
       "<\n",
       "like\t\t0.5063913995326177\n",
       "feel\t\t0.35969368418093717\n",
       "know\t\t0.29535994592909043\n",
       "really\t\t0.2759894247701939\n",
       "thing\t\t0.2574939770164714\n",
       "get\t\t0.252081171454231\n",
       "want\t\t0.2475311541126472\n",
       "tell\t\t0.23705444809389617\n",
       "always\t\t0.23527529026664207\n",
       "even\t\t0.21084049352302106\n",
       "\n",
       ">\n",
       "Topic 2\n",
       "<\n",
       "like\t\t0.5063913995326177\n",
       "feel\t\t0.35969368418093717\n",
       "know\t\t0.29535994592909043\n",
       "really\t\t0.2759894247701939\n",
       "thing\t\t0.2574939770164714\n",
       "get\t\t0.252081171454231\n",
       "want\t\t0.2475311541126472\n",
       "tell\t\t0.23705444809389617\n",
       "always\t\t0.23527529026664207\n",
       "even\t\t0.21084049352302106\n",
       "\n",
       ">\n",
       "Topic 3\n",
       "<\n",
       "like\t\t0.5063913995326177\n",
       "feel\t\t0.35969368418093717\n",
       "know\t\t0.29535994592909043\n",
       "really\t\t0.2759894247701939\n",
       "thing\t\t0.2574939770164714\n",
       "get\t\t0.252081171454231\n",
       "want\t\t0.2475311541126472\n",
       "tell\t\t0.23705444809389617\n",
       "always\t\t0.23527529026664207\n",
       "even\t\t0.21084049352302106\n",
       "\n",
       ">\n",
       "... skipped 7 topics"
      ]
     },
     "execution_count": 4,
     "metadata": {},
     "output_type": "execute_result"
    }
   ],
   "source": [
    "nmf.get_topics()"
   ]
  },
  {
   "cell_type": "code",
   "execution_count": 5,
   "metadata": {},
   "outputs": [],
   "source": [
    "lda = LDAModel()\n",
    "lda.fit(datamodel)"
   ]
  },
  {
   "cell_type": "code",
   "execution_count": 6,
   "metadata": {},
   "outputs": [
    {
     "data": {
      "text/plain": [
       "Topic 1\n",
       "<\n",
       "really\t\t0.01808309\n",
       "say\t\t0.013594749\n",
       "everyone\t\t0.012721889\n",
       "also\t\t0.011936703\n",
       "went\t\t0.011649635\n",
       "new\t\t0.0110278195\n",
       "feel\t\t0.010942908\n",
       "post\t\t0.010940018\n",
       "school\t\t0.010245932\n",
       "first\t\t0.010231134\n",
       "\n",
       ">\n",
       "Topic 2\n",
       "<\n",
       "really\t\t0.01808309\n",
       "say\t\t0.013594749\n",
       "everyone\t\t0.012721889\n",
       "also\t\t0.011936703\n",
       "went\t\t0.011649635\n",
       "new\t\t0.0110278195\n",
       "feel\t\t0.010942908\n",
       "post\t\t0.010940018\n",
       "school\t\t0.010245932\n",
       "first\t\t0.010231134\n",
       "\n",
       ">\n",
       "Topic 3\n",
       "<\n",
       "really\t\t0.01808309\n",
       "say\t\t0.013594749\n",
       "everyone\t\t0.012721889\n",
       "also\t\t0.011936703\n",
       "went\t\t0.011649635\n",
       "new\t\t0.0110278195\n",
       "feel\t\t0.010942908\n",
       "post\t\t0.010940018\n",
       "school\t\t0.010245932\n",
       "first\t\t0.010231134\n",
       "\n",
       ">\n",
       "... skipped 7 topics"
      ]
     },
     "execution_count": 6,
     "metadata": {},
     "output_type": "execute_result"
    }
   ],
   "source": [
    "lda.get_topics()"
   ]
  },
  {
   "cell_type": "code",
   "execution_count": 7,
   "metadata": {},
   "outputs": [],
   "source": [
    "bert = BERTopicModel()\n",
    "bert.fit(datamodel)"
   ]
  },
  {
   "cell_type": "code",
   "execution_count": 8,
   "metadata": {},
   "outputs": [
    {
     "data": {
      "text/plain": [
       "Topic 1\n",
       "<\n",
       "wa\t\t0.05827825533269466\n",
       "would\t\t0.036160727015423375\n",
       "year\t\t0.03050356685499802\n",
       "sister\t\t0.028467961796997676\n",
       "get\t\t0.027535183411524156\n",
       "family\t\t0.027096499931072302\n",
       "like\t\t0.02683897102315921\n",
       "dad\t\t0.02637189551693024\n",
       "time\t\t0.02583091120296819\n",
       "want\t\t0.02579369700989613\n",
       "\n",
       ">\n",
       "Topic 2\n",
       "<\n",
       "wa\t\t0.05827825533269466\n",
       "would\t\t0.036160727015423375\n",
       "year\t\t0.03050356685499802\n",
       "sister\t\t0.028467961796997676\n",
       "get\t\t0.027535183411524156\n",
       "family\t\t0.027096499931072302\n",
       "like\t\t0.02683897102315921\n",
       "dad\t\t0.02637189551693024\n",
       "time\t\t0.02583091120296819\n",
       "want\t\t0.02579369700989613\n",
       "\n",
       ">\n",
       "Topic 3\n",
       "<\n",
       "wa\t\t0.05827825533269466\n",
       "would\t\t0.036160727015423375\n",
       "year\t\t0.03050356685499802\n",
       "sister\t\t0.028467961796997676\n",
       "get\t\t0.027535183411524156\n",
       "family\t\t0.027096499931072302\n",
       "like\t\t0.02683897102315921\n",
       "dad\t\t0.02637189551693024\n",
       "time\t\t0.02583091120296819\n",
       "want\t\t0.02579369700989613\n",
       "\n",
       ">\n",
       "... skipped 0 topics"
      ]
     },
     "execution_count": 8,
     "metadata": {},
     "output_type": "execute_result"
    }
   ],
   "source": [
    "bert.get_topics()"
   ]
  },
  {
   "cell_type": "code",
   "execution_count": null,
   "metadata": {},
   "outputs": [],
   "source": []
  }
 ],
 "metadata": {
  "kernelspec": {
   "display_name": "Python 3.10.1 64-bit",
   "language": "python",
   "name": "python3"
  },
  "language_info": {
   "codemirror_mode": {
    "name": "ipython",
    "version": 3
   },
   "file_extension": ".py",
   "mimetype": "text/x-python",
   "name": "python",
   "nbconvert_exporter": "python",
   "pygments_lexer": "ipython3",
   "version": "3.10.1"
  },
  "orig_nbformat": 4,
  "vscode": {
   "interpreter": {
    "hash": "5c78c83bff0417342952dc0c0896a7258fe24f94fa556fee9b04f2330eb27859"
   }
  }
 },
 "nbformat": 4,
 "nbformat_minor": 2
}
