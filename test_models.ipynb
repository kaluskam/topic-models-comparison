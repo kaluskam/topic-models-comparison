{
 "cells": [
  {
   "cell_type": "code",
   "execution_count": 1,
   "metadata": {},
   "outputs": [
    {
     "name": "stderr",
     "output_type": "stream",
     "text": [
      "[nltk_data] Downloading package wordnet to\n",
      "[nltk_data]     C:\\Users\\Mikołaj\\AppData\\Roaming\\nltk_data...\n",
      "[nltk_data]   Package wordnet is already up-to-date!\n",
      "[nltk_data] Downloading package omw-1.4 to\n",
      "[nltk_data]     C:\\Users\\Mikołaj\\AppData\\Roaming\\nltk_data...\n",
      "[nltk_data]   Package omw-1.4 is already up-to-date!\n"
     ]
    }
   ],
   "source": [
    "from utils.data_structures import *\n",
    "from models.nmf_model import NMFModel\n",
    "from models.lda_model import LDAModel\n",
    "from models.berttopic_model import BERTopicModel\n",
    "from utils.preprocessing import DataPreprocessor \n",
    "import pandas as pd"
   ]
  },
  {
   "cell_type": "code",
   "execution_count": 2,
   "metadata": {},
   "outputs": [],
   "source": [
    "df = pd.read_csv(\"data/aita_df.csv\")\n",
    "dp = DataPreprocessor(True, False)\n",
    "text_df = dp.preprocess_dataframe(df.loc[1:300, ], \"selftext\", \"processed_text\", True)\n",
    "datamodel = InputData()\n",
    "datamodel.texts_from_df(text_df, \"processed_text\")"
   ]
  },
  {
   "cell_type": "code",
   "execution_count": 3,
   "metadata": {},
   "outputs": [
    {
     "name": "stdout",
     "output_type": "stream",
     "text": [
      "[[0.         0.         0.         ... 0.         0.         0.02895393]\n",
      " [0.         0.         0.01065491 ... 0.         0.         0.22258526]\n",
      " [0.         0.         0.         ... 0.04058156 0.         0.01395279]\n",
      " ...\n",
      " [0.         0.         0.21147665 ... 0.         0.         0.        ]\n",
      " [0.         0.         0.         ... 0.         0.         0.        ]\n",
      " [0.         0.         0.         ... 0.         0.         0.        ]]\n",
      "(300, 10)\n"
     ]
    }
   ],
   "source": [
    "nmf = NMFModel()\n",
    "nmf.fit(datamodel)\n",
    "nmf_topics = nmf.get_topics()"
   ]
  },
  {
   "cell_type": "code",
   "execution_count": 4,
   "metadata": {},
   "outputs": [],
   "source": [
    "from metrics.coherence_metric import *\n",
    "\n",
    "umass = UMassCoherenceMetric()\n",
    "cv = CVCoherenceMetric()\n",
    "cuci = CUCICoherenceMetric()\n",
    "cnpmi = CNPMICoherenceMetric()\n",
    "\n",
    "metrics = [umass, cv, cuci, cnpmi]"
   ]
  },
  {
   "cell_type": "code",
   "execution_count": 5,
   "metadata": {},
   "outputs": [
    {
     "data": {
      "text/plain": [
       "[-2.395503919825636,\n",
       " 0.46360007934058495,\n",
       " -1.3651670938686689,\n",
       " 0.002724674069087149]"
      ]
     },
     "execution_count": 5,
     "metadata": {},
     "output_type": "execute_result"
    }
   ],
   "source": [
    "[metric.evaluate(datamodel, nmf_topics) for metric in metrics]"
   ]
  },
  {
   "cell_type": "code",
   "execution_count": 3,
   "metadata": {},
   "outputs": [
    {
     "name": "stdout",
     "output_type": "stream",
     "text": [
      "(10, 304)\n"
     ]
    }
   ],
   "source": [
    "lda = LDAModel()\n",
    "lda.fit(datamodel)\n",
    "lda_topics = lda.get_topics()"
   ]
  },
  {
   "cell_type": "code",
   "execution_count": 7,
   "metadata": {},
   "outputs": [
    {
     "data": {
      "text/plain": [
       "[-1.1750581436388607,\n",
       " 0.33383015777403324,\n",
       " -0.3493730851677384,\n",
       " -0.01458201558416003]"
      ]
     },
     "execution_count": 7,
     "metadata": {},
     "output_type": "execute_result"
    }
   ],
   "source": [
    "[metric.evaluate(datamodel, lda_topics) for metric in metrics]"
   ]
  },
  {
   "cell_type": "code",
   "execution_count": 8,
   "metadata": {},
   "outputs": [],
   "source": [
    "bert = BERTopicModel()\n",
    "bert.fit(datamodel)\n",
    "bert_topics = bert.get_topics()"
   ]
  },
  {
   "cell_type": "code",
   "execution_count": 9,
   "metadata": {},
   "outputs": [
    {
     "data": {
      "text/plain": [
       "[-1.159910327952207,\n",
       " 0.32628884097709127,\n",
       " -0.45828748121012813,\n",
       " -0.023622015151261833]"
      ]
     },
     "execution_count": 9,
     "metadata": {},
     "output_type": "execute_result"
    }
   ],
   "source": [
    "[metric.evaluate(datamodel, bert_topics) for metric in metrics]"
   ]
  }
 ],
 "metadata": {
  "kernelspec": {
   "display_name": "Python 3.10.1 64-bit",
   "language": "python",
   "name": "python3"
  },
  "language_info": {
   "codemirror_mode": {
    "name": "ipython",
    "version": 3
   },
   "file_extension": ".py",
   "mimetype": "text/x-python",
   "name": "python",
   "nbconvert_exporter": "python",
   "pygments_lexer": "ipython3",
   "version": "3.10.1"
  },
  "orig_nbformat": 4,
  "vscode": {
   "interpreter": {
    "hash": "5c78c83bff0417342952dc0c0896a7258fe24f94fa556fee9b04f2330eb27859"
   }
  }
 },
 "nbformat": 4,
 "nbformat_minor": 2
}
